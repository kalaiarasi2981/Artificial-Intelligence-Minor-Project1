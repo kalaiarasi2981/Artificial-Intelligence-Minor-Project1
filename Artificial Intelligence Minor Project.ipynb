{
 "cells": [
  {
   "cell_type": "code",
   "execution_count": 11,
   "id": "b7904d7a",
   "metadata": {},
   "outputs": [],
   "source": [
    "from keras.preprocessing.image import ImageDataGenerator\n",
    "from keras.models import Sequential,load_model\n",
    "from keras.layers import Conv2D,MaxPooling2D,SpatialDropout2D,Flatten,Dropout,Dense\n",
    "from keras.preprocessing import image\n",
    "import tensorflow as tf\n",
    "import matplotlib.pyplot as plt\n",
    "import cv2\n",
    "import numpy as np\n",
    "import os"
   ]
  },
  {
   "cell_type": "code",
   "execution_count": 12,
   "id": "28104e6d",
   "metadata": {},
   "outputs": [],
   "source": [
    "img=image.load_img('C:/Users/ELCOT/Desktop/cnn/train/train/4.png')\n",
    "img.show()"
   ]
  },
  {
   "cell_type": "code",
   "execution_count": 13,
   "id": "2895e397",
   "metadata": {},
   "outputs": [],
   "source": [
    "train=ImageDataGenerator(rescale=1/255)\n",
    "test=ImageDataGenerator(rescale=1/255)"
   ]
  },
  {
   "cell_type": "code",
   "execution_count": 14,
   "id": "a0c31363",
   "metadata": {},
   "outputs": [
    {
     "name": "stdout",
     "output_type": "stream",
     "text": [
      "Found 50000 images belonging to 1 classes.\n",
      "Found 300000 images belonging to 1 classes.\n"
     ]
    }
   ],
   "source": [
    "traindataset=train.flow_from_directory('C:/Users/ELCOT/Desktop/cnn/train',\n",
    "                                      target_size=(150,150),\n",
    "                                       batch_size=16,\n",
    "                                       class_mode='categorical')\n",
    "testdataset=train.flow_from_directory('C:/Users/ELCOT/Desktop/cnn/test',\n",
    "                                      target_size=(150,150),\n",
    "                                       batch_size=16,\n",
    "                                       class_mode='categorical')"
   ]
  },
  {
   "cell_type": "code",
   "execution_count": 29,
   "id": "bf11b7dc",
   "metadata": {},
   "outputs": [
    {
     "name": "stdout",
     "output_type": "stream",
     "text": [
      "Model: \"sequential_8\"\n",
      "_________________________________________________________________\n",
      "Layer (type)                 Output Shape              Param #   \n",
      "=================================================================\n",
      "conv2d_24 (Conv2D)           (None, 148, 148, 32)      896       \n",
      "_________________________________________________________________\n",
      "max_pooling2d_22 (MaxPooling (None, 74, 74, 32)        0         \n",
      "_________________________________________________________________\n",
      "conv2d_25 (Conv2D)           (None, 72, 72, 32)        9248      \n",
      "_________________________________________________________________\n",
      "max_pooling2d_23 (MaxPooling (None, 36, 36, 32)        0         \n",
      "_________________________________________________________________\n",
      "conv2d_26 (Conv2D)           (None, 34, 34, 64)        18496     \n",
      "_________________________________________________________________\n",
      "max_pooling2d_24 (MaxPooling (None, 17, 17, 64)        0         \n",
      "_________________________________________________________________\n",
      "flatten_8 (Flatten)          (None, 18496)             0         \n",
      "_________________________________________________________________\n",
      "dense_14 (Dense)             (None, 100)               1849700   \n",
      "_________________________________________________________________\n",
      "dense_15 (Dense)             (None, 1)                 101       \n",
      "=================================================================\n",
      "Total params: 1,878,441\n",
      "Trainable params: 1,878,441\n",
      "Non-trainable params: 0\n",
      "_________________________________________________________________\n"
     ]
    }
   ],
   "source": [
    "model=Sequential()\n",
    "model.add(Conv2D(32,(3,3),activation='relu',input_shape=(150,150,3)))#filters #Kernalsize #RELU\n",
    "model.add(MaxPooling2D() )\n",
    "model.add(Conv2D(32,(3,3),activation='relu'))\n",
    "model.add(MaxPooling2D() )\n",
    "model.add(Conv2D(64,(3,3),activation='relu'))\n",
    "model.add(MaxPooling2D() )\n",
    "model.add(Flatten())\n",
    "model.add(Dense(100,activation='relu'))\n",
    "model.add(Dense(1,activation='sigmoid'))\n",
    "model.summary()"
   ]
  },
  {
   "cell_type": "code",
   "execution_count": 30,
   "id": "b8e9e6cf",
   "metadata": {},
   "outputs": [],
   "source": [
    "model.compile(optimizer='adam',loss='categorical_crossentropy',metrics=['accuracy'])"
   ]
  },
  {
   "cell_type": "code",
   "execution_count": 31,
   "id": "dea641f2",
   "metadata": {},
   "outputs": [
    {
     "name": "stdout",
     "output_type": "stream",
     "text": [
      "Epoch 1/7\n",
      "3125/3125 [==============================] - 3400s 1s/step - loss: 0.0000e+00 - accuracy: 0.5083\n",
      "Epoch 2/7\n",
      "3125/3125 [==============================] - 3022s 967ms/step - loss: 0.0000e+00 - accuracy: 0.5083\n",
      "Epoch 3/7\n",
      "3125/3125 [==============================] - 3332s 1s/step - loss: 0.0000e+00 - accuracy: 0.5083\n",
      "Epoch 4/7\n",
      "3125/3125 [==============================] - 3187s 1s/step - loss: 0.0000e+00 - accuracy: 0.5083\n",
      "Epoch 5/7\n",
      "3125/3125 [==============================] - 3484s 1s/step - loss: 0.0000e+00 - accuracy: 0.5083\n",
      "Epoch 6/7\n",
      "3125/3125 [==============================] - 3566s 1s/step - loss: 0.0000e+00 - accuracy: 0.5083\n",
      "Epoch 7/7\n",
      "3125/3125 [==============================] - 3590s 1s/step - loss: 0.0000e+00 - accuracy: 0.5083\n"
     ]
    }
   ],
   "source": [
    "model_saved=model.fit(\n",
    "        traindataset,\n",
    "        epochs=7)"
   ]
  },
  {
   "cell_type": "code",
   "execution_count": 33,
   "id": "3a332e32",
   "metadata": {},
   "outputs": [],
   "source": [
    "prediction=model.predict(testdataset)"
   ]
  },
  {
   "cell_type": "code",
   "execution_count": 34,
   "id": "26c38383",
   "metadata": {},
   "outputs": [
    {
     "name": "stdout",
     "output_type": "stream",
     "text": [
      "[0.49554113]\n"
     ]
    }
   ],
   "source": [
    "result=prediction[78]\n",
    "print(result)"
   ]
  },
  {
   "cell_type": "code",
   "execution_count": null,
   "id": "95d77115",
   "metadata": {},
   "outputs": [],
   "source": []
  },
  {
   "cell_type": "code",
   "execution_count": null,
   "id": "646504bc",
   "metadata": {},
   "outputs": [],
   "source": []
  },
  {
   "cell_type": "code",
   "execution_count": null,
   "id": "0e4d3e5b",
   "metadata": {},
   "outputs": [],
   "source": []
  },
  {
   "cell_type": "code",
   "execution_count": null,
   "id": "5ab9335d",
   "metadata": {},
   "outputs": [],
   "source": []
  },
  {
   "cell_type": "code",
   "execution_count": null,
   "id": "9a46cd57",
   "metadata": {},
   "outputs": [],
   "source": []
  },
  {
   "cell_type": "code",
   "execution_count": null,
   "id": "5494839a",
   "metadata": {},
   "outputs": [],
   "source": []
  },
  {
   "cell_type": "code",
   "execution_count": null,
   "id": "db94e387",
   "metadata": {},
   "outputs": [],
   "source": []
  }
 ],
 "metadata": {
  "kernelspec": {
   "display_name": "Python 3",
   "language": "python",
   "name": "python3"
  },
  "language_info": {
   "codemirror_mode": {
    "name": "ipython",
    "version": 3
   },
   "file_extension": ".py",
   "mimetype": "text/x-python",
   "name": "python",
   "nbconvert_exporter": "python",
   "pygments_lexer": "ipython3",
   "version": "3.8.8"
  }
 },
 "nbformat": 4,
 "nbformat_minor": 5
}
